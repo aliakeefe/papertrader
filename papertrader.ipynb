{
  "nbformat": 4,
  "nbformat_minor": 0,
  "metadata": {
    "colab": {
      "provenance": [],
      "authorship_tag": "ABX9TyPvFb8R5wivdztYN5LUZfLO",
      "include_colab_link": true
    },
    "kernelspec": {
      "name": "python3",
      "display_name": "Python 3"
    },
    "language_info": {
      "name": "python"
    }
  },
  "cells": [
    {
      "cell_type": "markdown",
      "metadata": {
        "id": "view-in-github",
        "colab_type": "text"
      },
      "source": [
        "<a href=\"https://colab.research.google.com/github/aliakeefe/papertrader/blob/master/papertrader.ipynb\" target=\"_parent\"><img src=\"https://colab.research.google.com/assets/colab-badge.svg\" alt=\"Open In Colab\"/></a>"
      ]
    },
    {
      "cell_type": "code",
      "source": [
        "!pip install alpaca-py"
      ],
      "metadata": {
        "colab": {
          "base_uri": "https://localhost:8080/"
        },
        "id": "4j96WPUVPCsg",
        "outputId": "45e8e815-5b81-448d-9bde-153167620666"
      },
      "execution_count": 2,
      "outputs": [
        {
          "output_type": "stream",
          "name": "stdout",
          "text": [
            "Looking in indexes: https://pypi.org/simple, https://us-python.pkg.dev/colab-wheels/public/simple/\n",
            "Collecting alpaca-py\n",
            "  Downloading alpaca_py-0.8.2-py3-none-any.whl (96 kB)\n",
            "\u001b[2K     \u001b[90m━━━━━━━━━━━━━━━━━━━━━━━━━━━━━━━━━━━━━━━━\u001b[0m \u001b[32m96.8/96.8 kB\u001b[0m \u001b[31m3.1 MB/s\u001b[0m eta \u001b[36m0:00:00\u001b[0m\n",
            "\u001b[?25hRequirement already satisfied: msgpack<2.0.0,>=1.0.3 in /usr/local/lib/python3.10/dist-packages (from alpaca-py) (1.0.5)\n",
            "Requirement already satisfied: pandas<2.0.0,>=1.3.5 in /usr/local/lib/python3.10/dist-packages (from alpaca-py) (1.5.3)\n",
            "Requirement already satisfied: pydantic<2.0.0,>=1.9.0 in /usr/local/lib/python3.10/dist-packages (from alpaca-py) (1.10.7)\n",
            "Requirement already satisfied: requests<3.0.0,>=2.27.1 in /usr/local/lib/python3.10/dist-packages (from alpaca-py) (2.27.1)\n",
            "Collecting sseclient-py<2.0.0,>=1.7.2 (from alpaca-py)\n",
            "  Downloading sseclient_py-1.7.2-py2.py3-none-any.whl (8.4 kB)\n",
            "Collecting websockets<11.0,>=10.2 (from alpaca-py)\n",
            "  Downloading websockets-10.4-cp310-cp310-manylinux_2_5_x86_64.manylinux1_x86_64.manylinux_2_17_x86_64.manylinux2014_x86_64.whl (106 kB)\n",
            "\u001b[2K     \u001b[90m━━━━━━━━━━━━━━━━━━━━━━━━━━━━━━━━━━━━━━\u001b[0m \u001b[32m106.8/106.8 kB\u001b[0m \u001b[31m10.4 MB/s\u001b[0m eta \u001b[36m0:00:00\u001b[0m\n",
            "\u001b[?25hRequirement already satisfied: python-dateutil>=2.8.1 in /usr/local/lib/python3.10/dist-packages (from pandas<2.0.0,>=1.3.5->alpaca-py) (2.8.2)\n",
            "Requirement already satisfied: pytz>=2020.1 in /usr/local/lib/python3.10/dist-packages (from pandas<2.0.0,>=1.3.5->alpaca-py) (2022.7.1)\n",
            "Requirement already satisfied: numpy>=1.21.0 in /usr/local/lib/python3.10/dist-packages (from pandas<2.0.0,>=1.3.5->alpaca-py) (1.22.4)\n",
            "Requirement already satisfied: typing-extensions>=4.2.0 in /usr/local/lib/python3.10/dist-packages (from pydantic<2.0.0,>=1.9.0->alpaca-py) (4.5.0)\n",
            "Requirement already satisfied: urllib3<1.27,>=1.21.1 in /usr/local/lib/python3.10/dist-packages (from requests<3.0.0,>=2.27.1->alpaca-py) (1.26.15)\n",
            "Requirement already satisfied: certifi>=2017.4.17 in /usr/local/lib/python3.10/dist-packages (from requests<3.0.0,>=2.27.1->alpaca-py) (2022.12.7)\n",
            "Requirement already satisfied: charset-normalizer~=2.0.0 in /usr/local/lib/python3.10/dist-packages (from requests<3.0.0,>=2.27.1->alpaca-py) (2.0.12)\n",
            "Requirement already satisfied: idna<4,>=2.5 in /usr/local/lib/python3.10/dist-packages (from requests<3.0.0,>=2.27.1->alpaca-py) (3.4)\n",
            "Requirement already satisfied: six>=1.5 in /usr/local/lib/python3.10/dist-packages (from python-dateutil>=2.8.1->pandas<2.0.0,>=1.3.5->alpaca-py) (1.16.0)\n",
            "Installing collected packages: sseclient-py, websockets, alpaca-py\n",
            "Successfully installed alpaca-py-0.8.2 sseclient-py-1.7.2 websockets-10.4\n"
          ]
        }
      ]
    },
    {
      "cell_type": "code",
      "execution_count": null,
      "metadata": {
        "id": "lvPIdM0nOywS"
      },
      "outputs": [],
      "source": [
        "from alpaca.trading.client import TradingClient\n",
        "import pandas as pd\n",
        "\n",
        "API_KEY = \"PKQI33ZN8PL4OFTAVDWM\"\n",
        "SECRET_KEY = \"jNa04HNvurPVwFKWGN0f0k9U7bZqfrCbIkkD5ODe\"\n",
        "\n",
        "trading_client = TradingClient(API_KEY, SECRET_KEY, paper=True)\n",
        "\n",
        "# Getting account information and printing it\n",
        "# account = trading_client.get_account()\n",
        "# for property_name, value in account:\n",
        "#   print(f\"\\\"{property_name}\\\": {value}\")\n",
        "\n",
        "from alpaca.trading.requests import MarketOrderRequest\n",
        "from alpaca.trading.enums import OrderSide, TimeInForce\n",
        "\n",
        "# Setting parameters for our buy orde\n",
        "# market_order_data = MarketOrderRequest(\n",
        "#     symbol=\"TXG\",\n",
        "#     qty=5,\n",
        "#     side=OrderSide.BUY,\n",
        "#     time_in_force=TimeInForce.GTC\n",
        "#   )\n",
        "\n",
        "# # Submitting the order and then printing the returned object\n",
        "# market_order = trading_client.submit_order(market_order_data)\n",
        "# for property_name, value in market_order:\n",
        "#     print(f\"\\\"{property_name}\\\": {value}\")\n",
        "\n",
        "\n",
        "\n",
        "\n",
        "from alpaca.data.historical import StockHistoricalDataClient\n",
        "from alpaca.data.requests import StockLatestQuoteRequest\n",
        "from alpaca.data.requests import StockQuotesRequest\n",
        "from alpaca.data.timeframe import TimeFrame\n",
        "from datetime import datetime\n",
        "\n",
        "\n",
        "# keys required for stock historical data client\n",
        "client = StockHistoricalDataClient(API_KEY, SECRET_KEY)\n",
        "\n",
        "# multi symbol request - single symbol is similar\n",
        "multisymbol_request_params = StockQuotesRequest(symbol_or_symbols=[\"SPY\"],\n",
        "                                                timeframe=TimeFrame.Day,\n",
        "                                                start = datetime(2023,5,1),\n",
        "                                                end = datetime(2023,5,2)\n",
        "                                                )\n",
        "\n",
        "latest_multisymbol_quotes = client.get_stock_quotes(multisymbol_request_params)\n",
        "\n",
        "#gld_latest_ask_price = latest_multisymbol_quotes[\"GLD\"].ask_price\n",
        "\n",
        "lmq_df = pd.DataFrame(latest_multisymbol_quotes)\n",
        "\n",
        "lmq_df"
      ]
    },
    {
      "cell_type": "code",
      "source": [],
      "metadata": {
        "id": "hmPhu8vsX_pR"
      },
      "execution_count": null,
      "outputs": []
    },
    {
      "cell_type": "code",
      "source": [],
      "metadata": {
        "id": "i8hQq5J4PCxB"
      },
      "execution_count": null,
      "outputs": []
    }
  ]
}